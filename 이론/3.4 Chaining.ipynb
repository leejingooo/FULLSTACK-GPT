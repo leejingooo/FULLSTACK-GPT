{
 "cells": [
  {
   "cell_type": "code",
   "execution_count": 4,
   "metadata": {},
   "outputs": [],
   "source": [
    "from langchain.chat_models import ChatOpenAI\n",
    "from langchain.prompts import ChatPromptTemplate\n",
    "from langchain.callbacks import StreamingStdOutCallbackHandler\n",
    "\n",
    "chat = ChatOpenAI(\n",
    "    temperature=0.1,\n",
    "    streaming=True,\n",
    "    callbacks=[StreamingStdOutCallbackHandler()]\n",
    "    )\n",
    "\n",
    "chef_prompt = ChatPromptTemplate.from_messages([\n",
    "    (\"system\", \"You are a world-class international chef. You create easy to follow recipes for any type of cuisine with easy to find ingredients.\"),\n",
    "    (\"human\", \"I want to cook {cuisine} food.\"),\n",
    "])\n",
    "\n",
    "chef_chain = chef_prompt | chat"
   ]
  },
  {
   "cell_type": "code",
   "execution_count": 5,
   "metadata": {},
   "outputs": [
    {
     "name": "stdout",
     "output_type": "stream",
     "text": [
      "Great choice! Indian cuisine is known for its bold flavors and aromatic spices. Let's start with a classic and popular dish - Chicken Tikka Masala. Here's a simple recipe for you to try at home:\n",
      "\n",
      "Ingredients:\n",
      "- 1 lb boneless, skinless chicken breasts, cut into bite-sized pieces\n",
      "- 1 cup plain yogurt\n",
      "- 2 tablespoons lemon juice\n",
      "- 2 tablespoons vegetable oil\n",
      "- 1 onion, finely chopped\n",
      "- 3 cloves garlic, minced\n",
      "- 1 tablespoon ginger, minced\n",
      "- 1 can (14 oz) tomato sauce\n",
      "- 1 tablespoon garam masala\n",
      "- 1 teaspoon ground cumin\n",
      "- 1 teaspoon ground coriander\n",
      "- 1 teaspoon paprika\n",
      "- 1/2 teaspoon turmeric\n",
      "- 1/2 teaspoon cayenne pepper (adjust to taste)\n",
      "- Salt and pepper to taste\n",
      "- Fresh cilantro, chopped for garnish\n",
      "\n",
      "Instructions:\n",
      "1. In a bowl, combine yogurt, lemon juice, 1 tablespoon vegetable oil, half of the minced garlic, half of the minced ginger, and a pinch of salt. Add the chicken pieces and marinate for at least 1 hour, preferably overnight.\n",
      "\n",
      "2. Preheat the oven to 400°F (200°C). Thread the marinated chicken onto skewers and place them on a baking sheet. Bake for 20-25 minutes or until the chicken is cooked through.\n",
      "\n",
      "3. In a large skillet, heat the remaining tablespoon of vegetable oil over medium heat. Add the chopped onion and cook until softened, about 5 minutes.\n",
      "\n",
      "4. Add the remaining garlic and ginger to the skillet and cook for another minute until fragrant.\n",
      "\n",
      "5. Stir in the tomato sauce, garam masala, cumin, coriander, paprika, turmeric, cayenne pepper, salt, and pepper. Simmer for 10-15 minutes, stirring occasionally.\n",
      "\n",
      "6. Add the cooked chicken tikka to the skillet and simmer for an additional 5 minutes to allow the flavors to meld together.\n",
      "\n",
      "7. Serve the Chicken Tikka Masala over steamed rice or with naan bread. Garnish with chopped cilantro before serving.\n",
      "\n",
      "Enjoy your homemade Chicken Tikka Masala with its rich and creamy sauce infused with aromatic spices!As a vegetarian chef, I can help you make a delicious vegetarian version of Chicken Tikka Masala. Here are some alternative ingredients and preparation methods you can use:\n",
      "\n",
      "1. **Alternative to Chicken**: You can substitute the chicken with paneer cubes, tofu cubes, or a mix of vegetables like cauliflower, bell peppers, and peas. For paneer or tofu, you can marinate them similarly to the chicken in the yogurt and spice mixture before baking or pan-frying.\n",
      "\n",
      "2. **Alternative to Yogurt**: Use plant-based yogurt made from soy, almond, or coconut milk as a substitute for dairy yogurt in the marinade. It will still provide the tanginess and help tenderize the paneer or tofu.\n",
      "\n",
      "3. **Alternative to Garam Masala**: You can make your own garam masala blend using ground cinnamon, cloves, cardamom, and cumin. Adjust the proportions to suit your taste preferences.\n",
      "\n",
      "4. **Alternative to Naan Bread**: Serve the vegetarian Tikka Masala with roti, chapati, or whole wheat pita bread as a healthier alternative to traditional naan.\n",
      "\n",
      "5. **Alternative to Garnish**: If you're not a fan of cilantro, you can garnish the dish with fresh mint leaves, chopped parsley, or a squeeze of lemon juice for a burst of freshness.\n",
      "\n",
      "By making these simple ingredient swaps and adjustments, you can enjoy a flavorful and satisfying vegetarian version of Chicken Tikka Masala. Enjoy your cooking!"
     ]
    },
    {
     "data": {
      "text/plain": [
       "AIMessageChunk(content=\"As a vegetarian chef, I can help you make a delicious vegetarian version of Chicken Tikka Masala. Here are some alternative ingredients and preparation methods you can use:\\n\\n1. **Alternative to Chicken**: You can substitute the chicken with paneer cubes, tofu cubes, or a mix of vegetables like cauliflower, bell peppers, and peas. For paneer or tofu, you can marinate them similarly to the chicken in the yogurt and spice mixture before baking or pan-frying.\\n\\n2. **Alternative to Yogurt**: Use plant-based yogurt made from soy, almond, or coconut milk as a substitute for dairy yogurt in the marinade. It will still provide the tanginess and help tenderize the paneer or tofu.\\n\\n3. **Alternative to Garam Masala**: You can make your own garam masala blend using ground cinnamon, cloves, cardamom, and cumin. Adjust the proportions to suit your taste preferences.\\n\\n4. **Alternative to Naan Bread**: Serve the vegetarian Tikka Masala with roti, chapati, or whole wheat pita bread as a healthier alternative to traditional naan.\\n\\n5. **Alternative to Garnish**: If you're not a fan of cilantro, you can garnish the dish with fresh mint leaves, chopped parsley, or a squeeze of lemon juice for a burst of freshness.\\n\\nBy making these simple ingredient swaps and adjustments, you can enjoy a flavorful and satisfying vegetarian version of Chicken Tikka Masala. Enjoy your cooking!\")"
      ]
     },
     "execution_count": 5,
     "metadata": {},
     "output_type": "execute_result"
    }
   ],
   "source": [
    "veg_chef_prompt = ChatPromptTemplate.from_messages([\n",
    "    (\"system\", \"You are a vegetarian chef specialized on making traditional vegeterian recipies. You find alternative ingredients and explain their preparation. You don't radically modify the recipe. If there is no alternative for a food just say you don't know how to replace it.\"),\n",
    "    (\"human\", \"{recipe}\")\n",
    "])\n",
    "\n",
    "veg_chain = veg_chef_prompt | chat\n",
    "\n",
    "final_chain = {\"recipe\": chef_chain} | veg_chain\n",
    "\n",
    "final_chain.invoke({\n",
    "    \"cuisine\": \"indian\"\n",
    "})"
   ]
  },
  {
   "cell_type": "code",
   "execution_count": null,
   "metadata": {},
   "outputs": [],
   "source": [
    "from langchain.schema import BaseOutputParser\n",
    "\n",
    "class Co "
   ]
  }
 ],
 "metadata": {
  "kernelspec": {
   "display_name": "env",
   "language": "python",
   "name": "python3"
  },
  "language_info": {
   "codemirror_mode": {
    "name": "ipython",
    "version": 3
   },
   "file_extension": ".py",
   "mimetype": "text/x-python",
   "name": "python",
   "nbconvert_exporter": "python",
   "pygments_lexer": "ipython3",
   "version": "3.9.12"
  }
 },
 "nbformat": 4,
 "nbformat_minor": 2
}
