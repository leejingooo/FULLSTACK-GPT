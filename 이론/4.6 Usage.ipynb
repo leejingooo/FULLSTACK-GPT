{
 "cells": [
  {
   "cell_type": "code",
   "execution_count": 2,
   "metadata": {},
   "outputs": [
    {
     "name": "stdout",
     "output_type": "stream",
     "text": [
      "Ingredients:\n",
      "- 1 cup of rice\n",
      "- 1 cup of water\n",
      "- 1 tablespoon of nuruk (fermentation starter)\n",
      "- 1 tablespoon of yeast\n",
      "\n",
      "Instructions:\n",
      "1. Rinse the rice under cold water until the water runs clear. Drain the rice and let it sit for 30 minutes.\n",
      "2. In a large pot, bring the water to a boil. Add the rice and cook for 15 minutes, stirring occasionally.\n",
      "3. Remove the pot from the heat and let it cool to room temperature.\n",
      "4. In a separate bowl, mix the nuruk and yeast with a little bit of warm water to form a paste.\n",
      "5. Add the rice to the nuruk and yeast mixture and mix well.\n",
      "6. Transfer the mixture to a clean glass jar and cover with a clean cloth. Let it ferment in a dark, cool place for 1-2 weeks.\n",
      "7. After the fermentation process is complete, strain the liquid through a cheesecloth to remove any solids.\n",
      "8. Store the soju in a sealed container in the refrigerator and enjoy chilled. I am an AI digital assistant, so I do not have an age in the traditional sense. \n",
      "\n",
      "Tokens Used: 265\n",
      "\tPrompt Tokens: 26\n",
      "\tCompletion Tokens: 239\n",
      "Successful Requests: 2\n",
      "Total Cost (USD): $0.0005170000000000001\n"
     ]
    }
   ],
   "source": [
    "from langchain.chat_models import ChatOpenAI\n",
    "from langchain.callbacks import get_openai_callback\n",
    "\n",
    "chat = ChatOpenAI(\n",
    "    temperature=0.1,\n",
    ")\n",
    "\n",
    "with get_openai_callback() as usage:\n",
    "    a = chat.predict(\"What is the recipe for soju\")\n",
    "    b = chat.predict(\"How old are you?\")\n",
    "    print(a, \"\\n\", b, \"\\n\")\n",
    "    print(usage)\n"
   ]
  }
 ],
 "metadata": {
  "kernelspec": {
   "display_name": "env",
   "language": "python",
   "name": "python3"
  },
  "language_info": {
   "codemirror_mode": {
    "name": "ipython",
    "version": 3
   },
   "file_extension": ".py",
   "mimetype": "text/x-python",
   "name": "python",
   "nbconvert_exporter": "python",
   "pygments_lexer": "ipython3",
   "version": "3.9.12"
  }
 },
 "nbformat": 4,
 "nbformat_minor": 2
}
